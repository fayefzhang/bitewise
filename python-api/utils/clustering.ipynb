{
 "cells": [
  {
   "cell_type": "markdown",
   "metadata": {},
   "source": [
    "## clustering attempt"
   ]
  },
  {
   "cell_type": "code",
   "execution_count": 1,
   "metadata": {},
   "outputs": [],
   "source": [
    "import re\n",
    "import json\n",
    "import pandas as pd\n",
    "import numpy as np\n",
    "import nltk\n",
    "from nltk.corpus import stopwords\n",
    "from nltk.tokenize import word_tokenize\n",
    "from nltk.stem import WordNetLemmatizer\n",
    "from sentence_transformers import SentenceTransformer\n",
    "from sklearn.cluster import DBSCAN\n",
    "from transformers import pipeline\n"
   ]
  },
  {
   "cell_type": "code",
   "execution_count": 2,
   "metadata": {},
   "outputs": [
    {
     "name": "stderr",
     "output_type": "stream",
     "text": [
      "[nltk_data] Downloading package punkt to\n",
      "[nltk_data]     C:\\Users\\jared\\AppData\\Roaming\\nltk_data...\n",
      "[nltk_data]   Package punkt is already up-to-date!\n",
      "[nltk_data] Downloading package stopwords to\n",
      "[nltk_data]     C:\\Users\\jared\\AppData\\Roaming\\nltk_data...\n",
      "[nltk_data]   Package stopwords is already up-to-date!\n",
      "[nltk_data] Downloading package punkt_tab to\n",
      "[nltk_data]     C:\\Users\\jared\\AppData\\Roaming\\nltk_data...\n",
      "[nltk_data]   Package punkt_tab is already up-to-date!\n",
      "[nltk_data] Downloading package wordnet to\n",
      "[nltk_data]     C:\\Users\\jared\\AppData\\Roaming\\nltk_data...\n",
      "[nltk_data]   Package wordnet is already up-to-date!\n"
     ]
    },
    {
     "data": {
      "text/plain": [
       "True"
      ]
     },
     "execution_count": 2,
     "metadata": {},
     "output_type": "execute_result"
    }
   ],
   "source": [
    "nltk.download('punkt')\n",
    "nltk.download('stopwords')\n",
    "nltk.download('punkt_tab')\n",
    "nltk.download('wordnet')"
   ]
  },
  {
   "cell_type": "code",
   "execution_count": 3,
   "metadata": {},
   "outputs": [],
   "source": [
    "pd.set_option('display.max_colwidth', None)"
   ]
  },
  {
   "cell_type": "markdown",
   "metadata": {},
   "source": [
    "Process:\n",
    "\n",
    "1) want list of each article's title + description\n",
    "2) clean data (lowercase, remove html, remove special chars)\n",
    "3) preprocess (tokenize and remove stopwords, lemmatize)\n",
    "4) use kmeans for clustering (q: fixed number of clusters?)\n",
    "5) apply PCA\n",
    "6) select only largest clusters?\n",
    "7) web scrape articles belonging to that cluster\n",
    "8) summarize with OpenAI"
   ]
  },
  {
   "cell_type": "code",
   "execution_count": 4,
   "metadata": {},
   "outputs": [],
   "source": [
    "# Step 1: read in data\n",
    "def read_data(file_path):\n",
    "    with open(file_path) as f:\n",
    "        data = json.load(f)\n",
    "    return data\n",
    "\n",
    "search_data = read_data('../newsapi/outputs/test_search_trump.json')"
   ]
  },
  {
   "cell_type": "code",
   "execution_count": 5,
   "metadata": {},
   "outputs": [],
   "source": [
    "# Step 1 cont: convert to DF\n",
    "articles_df = pd.json_normalize(search_data)\n"
   ]
  },
  {
   "cell_type": "code",
   "execution_count": 6,
   "metadata": {},
   "outputs": [
    {
     "data": {
      "text/html": [
       "<div>\n",
       "<style scoped>\n",
       "    .dataframe tbody tr th:only-of-type {\n",
       "        vertical-align: middle;\n",
       "    }\n",
       "\n",
       "    .dataframe tbody tr th {\n",
       "        vertical-align: top;\n",
       "    }\n",
       "\n",
       "    .dataframe thead th {\n",
       "        text-align: right;\n",
       "    }\n",
       "</style>\n",
       "<table border=\"1\" class=\"dataframe\">\n",
       "  <thead>\n",
       "    <tr style=\"text-align: right;\">\n",
       "      <th></th>\n",
       "      <th>author</th>\n",
       "      <th>title</th>\n",
       "      <th>description</th>\n",
       "      <th>url</th>\n",
       "      <th>urlToImage</th>\n",
       "      <th>publishedAt</th>\n",
       "      <th>content</th>\n",
       "      <th>user_pref</th>\n",
       "      <th>source.id</th>\n",
       "      <th>source.name</th>\n",
       "    </tr>\n",
       "  </thead>\n",
       "  <tbody>\n",
       "    <tr>\n",
       "      <th>0</th>\n",
       "      <td>Lauren Goode, Paresh Dave, Will Knight</td>\n",
       "      <td>What Donald Trump's Win Will Mean for Big Tech</td>\n",
       "      <td>Donald Trump's approach to Big Tech has oscillated between calls for stricter regulations for some players and a hands-off approach for others. Here's how he might steer tech policy in a second term.</td>\n",
       "      <td>https://www.wired.com/story/trump-tech-policy/</td>\n",
       "      <td>https://media.wired.com/photos/672bcd1062c380013856bb0f/191:100/w_1280,c_limit/Business_bigtech_GettyImages-697900116.jpg</td>\n",
       "      <td>2024-11-07T20:00:17Z</td>\n",
       "      <td>The most raucous cheers of the night were prompted by Trumps promise to fire Gary Gensler, chairman of the Securities and Exchange Commission, a regulatory agency that has brought a volley of lawsuit… [+2787 chars]</td>\n",
       "      <td>False</td>\n",
       "      <td>wired</td>\n",
       "      <td>Wired</td>\n",
       "    </tr>\n",
       "    <tr>\n",
       "      <th>1</th>\n",
       "      <td>Caroline Haskins</td>\n",
       "      <td>ICE Started Ramping Up Its Surveillance Arsenal Immediately After Donald Trump Won</td>\n",
       "      <td>US Immigration and Customs Enforcement put out a fresh call for contracts for surveillance technologies before an anticipated surge in the number of people it monitors ahead of deportation hearings.</td>\n",
       "      <td>https://www.wired.com/story/ice-surveillance-contracts-isap/</td>\n",
       "      <td>https://media.wired.com/photos/6733a1802d34679fa5571df1/191:100/w_1280,c_limit/Security_ICE_GettyImages.jpg</td>\n",
       "      <td>2024-11-13T12:00:00Z</td>\n",
       "      <td>Compared to its recent November notice, ICE was more detailed about its 2025 plans in a different notice released last year. This earlier notice shows that ICE was preparing for a more intense immigr… [+2023 chars]</td>\n",
       "      <td>False</td>\n",
       "      <td>wired</td>\n",
       "      <td>Wired</td>\n",
       "    </tr>\n",
       "    <tr>\n",
       "      <th>2</th>\n",
       "      <td>Kelly McEvers</td>\n",
       "      <td>The Great American Microchip Mobilization</td>\n",
       "      <td>Under Donald Trump and Joe Biden alike, the US has been determined to “reshore” chipmaking. Now money and colossal infrastructure are flowing to a vast Intel site in Ohio—just as the company may be falling apart.</td>\n",
       "      <td>https://www.wired.com/story/intel-great-american-microchip-mobilization/</td>\n",
       "      <td>https://media.wired.com/photos/67329e6ef0b163d7e81ffb79/191:100/w_1280,c_limit/Intel_Ohio_DSC09351.jpg</td>\n",
       "      <td>2024-11-14T11:00:00Z</td>\n",
       "      <td>It took nearly two years of planning to get here. This is one of about two dozen superloadspieces of highway cargo that weigh more than 120,000 poundsthat will be lumbering across Ohio for Intel. Tod… [+2622 chars]</td>\n",
       "      <td>False</td>\n",
       "      <td>wired</td>\n",
       "      <td>Wired</td>\n",
       "    </tr>\n",
       "    <tr>\n",
       "      <th>3</th>\n",
       "      <td>Eric Geller</td>\n",
       "      <td>More Spyware, Fewer Rules: What Trump’s Return Means for US Cybersecurity</td>\n",
       "      <td>Experts expect Donald Trump’s next administration to relax cybersecurity rules on businesses, abandon concerns around human rights, and take an aggressive stance against the cyber armies of US adversaries.</td>\n",
       "      <td>https://www.wired.com/story/trump-administration-cybersecurity-policy-reversals/</td>\n",
       "      <td>https://media.wired.com/photos/6735e10f310e865b05b94244/191:100/w_1280,c_limit/Security_Animation_GettyImages.jpg</td>\n",
       "      <td>2024-11-14T10:30:00Z</td>\n",
       "      <td>Trump is also unlikely to continue the Biden administrations campaign to limit the proliferation of commercial spyware technologies, which authoritarian governments have used to harass journalists, c… [+2985 chars]</td>\n",
       "      <td>False</td>\n",
       "      <td>wired</td>\n",
       "      <td>Wired</td>\n",
       "    </tr>\n",
       "    <tr>\n",
       "      <th>4</th>\n",
       "      <td>Leah Feiger</td>\n",
       "      <td>We Break Down the Internet’s Future Under Trump 2.0</td>\n",
       "      <td>WIRED global editorial director Katie Drummond joins this week to discuss what the fragmented internet did for the Trump campaign, and what the incoming Trump administration means for the internet.</td>\n",
       "      <td>https://www.wired.com/story/the-internets-future-under-donald-trump/</td>\n",
       "      <td>https://media.wired.com/photos/67328cfe8b3c4eb2afd88938/191:100/w_1280,c_limit/Politics-Lab-Umbrella-of-Election-Politics-2182522891.jpg</td>\n",
       "      <td>2024-11-14T18:58:19Z</td>\n",
       "      <td>Leah Feiger: Enough trillions that don't actually currently exist in that budget.\\r\\nKatie Drummond: Exactly. So thinking about that very messy, very human business and Elon Musk and Donald Trump in a … [+5020 chars]</td>\n",
       "      <td>False</td>\n",
       "      <td>wired</td>\n",
       "      <td>Wired</td>\n",
       "    </tr>\n",
       "  </tbody>\n",
       "</table>\n",
       "</div>"
      ],
      "text/plain": [
       "                                   author  \\\n",
       "0  Lauren Goode, Paresh Dave, Will Knight   \n",
       "1                        Caroline Haskins   \n",
       "2                           Kelly McEvers   \n",
       "3                             Eric Geller   \n",
       "4                             Leah Feiger   \n",
       "\n",
       "                                                                                title  \\\n",
       "0                                      What Donald Trump's Win Will Mean for Big Tech   \n",
       "1  ICE Started Ramping Up Its Surveillance Arsenal Immediately After Donald Trump Won   \n",
       "2                                           The Great American Microchip Mobilization   \n",
       "3           More Spyware, Fewer Rules: What Trump’s Return Means for US Cybersecurity   \n",
       "4                                 We Break Down the Internet’s Future Under Trump 2.0   \n",
       "\n",
       "                                                                                                                                                                                                            description  \\\n",
       "0               Donald Trump's approach to Big Tech has oscillated between calls for stricter regulations for some players and a hands-off approach for others. Here's how he might steer tech policy in a second term.   \n",
       "1                US Immigration and Customs Enforcement put out a fresh call for contracts for surveillance technologies before an anticipated surge in the number of people it monitors ahead of deportation hearings.   \n",
       "2  Under Donald Trump and Joe Biden alike, the US has been determined to “reshore” chipmaking. Now money and colossal infrastructure are flowing to a vast Intel site in Ohio—just as the company may be falling apart.   \n",
       "3         Experts expect Donald Trump’s next administration to relax cybersecurity rules on businesses, abandon concerns around human rights, and take an aggressive stance against the cyber armies of US adversaries.   \n",
       "4                 WIRED global editorial director Katie Drummond joins this week to discuss what the fragmented internet did for the Trump campaign, and what the incoming Trump administration means for the internet.   \n",
       "\n",
       "                                                                                url  \\\n",
       "0                                    https://www.wired.com/story/trump-tech-policy/   \n",
       "1                      https://www.wired.com/story/ice-surveillance-contracts-isap/   \n",
       "2          https://www.wired.com/story/intel-great-american-microchip-mobilization/   \n",
       "3  https://www.wired.com/story/trump-administration-cybersecurity-policy-reversals/   \n",
       "4              https://www.wired.com/story/the-internets-future-under-donald-trump/   \n",
       "\n",
       "                                                                                                                                 urlToImage  \\\n",
       "0                 https://media.wired.com/photos/672bcd1062c380013856bb0f/191:100/w_1280,c_limit/Business_bigtech_GettyImages-697900116.jpg   \n",
       "1                               https://media.wired.com/photos/6733a1802d34679fa5571df1/191:100/w_1280,c_limit/Security_ICE_GettyImages.jpg   \n",
       "2                                    https://media.wired.com/photos/67329e6ef0b163d7e81ffb79/191:100/w_1280,c_limit/Intel_Ohio_DSC09351.jpg   \n",
       "3                         https://media.wired.com/photos/6735e10f310e865b05b94244/191:100/w_1280,c_limit/Security_Animation_GettyImages.jpg   \n",
       "4  https://media.wired.com/photos/67328cfe8b3c4eb2afd88938/191:100/w_1280,c_limit/Politics-Lab-Umbrella-of-Election-Politics-2182522891.jpg   \n",
       "\n",
       "            publishedAt  \\\n",
       "0  2024-11-07T20:00:17Z   \n",
       "1  2024-11-13T12:00:00Z   \n",
       "2  2024-11-14T11:00:00Z   \n",
       "3  2024-11-14T10:30:00Z   \n",
       "4  2024-11-14T18:58:19Z   \n",
       "\n",
       "                                                                                                                                                                                                                    content  \\\n",
       "0    The most raucous cheers of the night were prompted by Trumps promise to fire Gary Gensler, chairman of the Securities and Exchange Commission, a regulatory agency that has brought a volley of lawsuit… [+2787 chars]   \n",
       "1    Compared to its recent November notice, ICE was more detailed about its 2025 plans in a different notice released last year. This earlier notice shows that ICE was preparing for a more intense immigr… [+2023 chars]   \n",
       "2    It took nearly two years of planning to get here. This is one of about two dozen superloadspieces of highway cargo that weigh more than 120,000 poundsthat will be lumbering across Ohio for Intel. Tod… [+2622 chars]   \n",
       "3    Trump is also unlikely to continue the Biden administrations campaign to limit the proliferation of commercial spyware technologies, which authoritarian governments have used to harass journalists, c… [+2985 chars]   \n",
       "4  Leah Feiger: Enough trillions that don't actually currently exist in that budget.\\r\\nKatie Drummond: Exactly. So thinking about that very messy, very human business and Elon Musk and Donald Trump in a … [+5020 chars]   \n",
       "\n",
       "   user_pref source.id source.name  \n",
       "0      False     wired       Wired  \n",
       "1      False     wired       Wired  \n",
       "2      False     wired       Wired  \n",
       "3      False     wired       Wired  \n",
       "4      False     wired       Wired  "
      ]
     },
     "execution_count": 6,
     "metadata": {},
     "output_type": "execute_result"
    }
   ],
   "source": [
    "articles_df.head(5)"
   ]
  },
  {
   "cell_type": "code",
   "execution_count": 7,
   "metadata": {},
   "outputs": [],
   "source": [
    "# Step 2: clean and tokenize data\n",
    "def clean_text(text):\n",
    "    if not isinstance(text, str):\n",
    "        return \"\"\n",
    "    text = text.lower()\n",
    "    text = re.sub(r'http\\S+|www\\S+|https\\S+', '', text)\n",
    "    text = re.sub(r'\\W+', ' ', text)\n",
    "    tokens = word_tokenize(text)\n",
    "    tokens = [word for word in tokens if word not in stopwords.words('english')]\n",
    "    lemmatizer = WordNetLemmatizer()\n",
    "    tokens = [lemmatizer.lemmatize(word) for word in tokens]\n",
    "    return ' '.join(tokens)\n",
    "\n",
    "articles_df['combined_text'] = articles_df['title'].fillna('') + ' ' + articles_df['description'].fillna('')\n",
    "articles_df['processed_text'] = articles_df['combined_text'].apply(clean_text)"
   ]
  },
  {
   "cell_type": "code",
   "execution_count": 8,
   "metadata": {},
   "outputs": [],
   "source": [
    "# Step 3: embed and cluster using DBSCAN (can also try kmeans)\n",
    "model = SentenceTransformer('all-MiniLM-L6-v2')\n",
    "embeddings = model.encode(articles_df['processed_text'].fillna(''))\n",
    "\n",
    "dbscan = DBSCAN(eps=0.5, min_samples=3, metric='cosine')\n",
    "clusters = dbscan.fit_predict(embeddings)\n",
    "\n",
    "articles_df['cluster'] = clusters"
   ]
  },
  {
   "cell_type": "code",
   "execution_count": 16,
   "metadata": {},
   "outputs": [
    {
     "data": {
      "text/plain": [
       "cluster\n",
       "-1    87\n",
       " 0    13\n",
       " 2     9\n",
       " 5     6\n",
       " 1     4\n",
       " 4     4\n",
       " 6     3\n",
       " 3     3\n",
       "Name: count, dtype: int64"
      ]
     },
     "execution_count": 16,
     "metadata": {},
     "output_type": "execute_result"
    }
   ],
   "source": [
    "articles_df['cluster'].value_counts()"
   ]
  },
  {
   "cell_type": "code",
   "execution_count": 17,
   "metadata": {},
   "outputs": [
    {
     "name": "stdout",
     "output_type": "stream",
     "text": [
      "0                                          What Donald Trump's Win Will Mean for Big Tech\n",
      "3               More Spyware, Fewer Rules: What Trump’s Return Means for US Cybersecurity\n",
      "46                           How will a second Trump presidency affect the tech industry?\n",
      "51               Did you need another reminder that Donald Trump watches TV? Here you go.\n",
      "59     Elon Musk went all-in on Pennsylvania — and his expensive effort paid off big time\n",
      "68           Silicon Valley is betting a Musk-inspired Trump could unleash a startup boom\n",
      "102                                       What Donald Trump’s Win Could Mean for Vaccines\n",
      "103                             How long will Elon Musk and Donald Trump’s lovefest last?\n",
      "105                                           What Donald Trump’s Win Means For Inflation\n",
      "108                                    What Trump's win means for the consulting industry\n",
      "109                                                  What Trump’s Win Means for Education\n",
      "119             Donald Trump and Elon Musk golf at Trump International after election win\n",
      "125             Silicon Valley's swing toward Trump is real. Here's the data to prove it.\n",
      "Name: title, dtype: object\n",
      "0                                                                     Donald Trump's approach to Big Tech has oscillated between calls for stricter regulations for some players and a hands-off approach for others. Here's how he might steer tech policy in a second term.\n",
      "3                                                               Experts expect Donald Trump’s next administration to relax cybersecurity rules on businesses, abandon concerns around human rights, and take an aggressive stance against the cyber armies of US adversaries.\n",
      "46                                                                                                                                                                         With a second Trump presidency, we should expect some things to change while others stay the same.\n",
      "51                                                                                                                                               Twitter - and Elon Musk — are important for Trump 2.0. But Trump has always been a TV person and that's not going to change.\n",
      "59                                                                                                                          From hosting events to organizing a canvassing effort, Elon Musk poured  millions into Pennsylvania. It likely helped deliver the state to Trump.\n",
      "68                                                                                                 Silicon Valley anticipates growth with Trump's election and Elon Musk's support, expecting deregulation to boost innovation and ease mergers for startups and tech giants.\n",
      "102                                                                                                                                   Vaccine skeptic Robert F. Kennedy Jr. may help shape health policy in the Trump Administration. What does that mean for vaccine policy?\n",
      "103    Two massive egos and two idiosyncratic entrepreneurs have joined forces. That’s not always a recipe for success.\\n\\nThe bromance between Donald Trump and Elon Musk is one of the strangest outcomes of the 2024 presidential election cycle, with Musk stumping for …\n",
      "105                                                                                                                                                                              Economists say his proposals could drive up the costs of apparel, toys, appliances, and food\n",
      "108                                                                                                                                                                                         Donald Trump's presidency could lead to a boost in demand for consulting services\n",
      "109                                         Donald Trump will be serving a second presidential term, and with both chambers of Congress likely under Republican leadership—though the House is still to be decided— the future of education in the U.S. could starkly change.\n",
      "119                                                                                                                            The president-elect returned to golf at Trump International, the same course where an assassination attempt was made against him in September.\n",
      "125                                                                                                                                                                                  California's San Francisco Bay Area is still solidly blue — but less than it used to be.\n",
      "Name: description, dtype: object\n"
     ]
    }
   ],
   "source": [
    "print(articles_df[articles_df['cluster'] == 0]['title'])\n",
    "print(articles_df[articles_df['cluster'] == 0]['description'])"
   ]
  },
  {
   "cell_type": "code",
   "execution_count": 18,
   "metadata": {},
   "outputs": [
    {
     "name": "stdout",
     "output_type": "stream",
     "text": [
      "22                                                             Watch: Putin congratulates 'courageous' Trump on election win\n",
      "35                                                    Who is Pete Hegseth - the Fox News host who will be defence secretary?\n",
      "42                                   'Crimea is gone': Trump adviser says Ukraine focus must be peace not retaking territory\n",
      "64                                                              Inside Trump and Putin's first phone call since the election\n",
      "67                                      With Trump's White House win, the clock is ticking on over $6 billion in Ukraine aid\n",
      "70     Trump's Pentagon pick criticized US involvement in Ukraine, said Putin probably wouldn't go 'much further' if he wins\n",
      "89                                                      Trump to nominate Fox News host Pete Hegseth to be defense secretary\n",
      "115                                          Trump takes calls from growing list of world leaders following election victory\n",
      "121                                 Trump says he will nominate anti-'woke' Fox News host Pete Hegseth for defense secretary\n",
      "Name: title, dtype: object\n",
      "22                                                                                    The Russian president says he was impressed by Trump's reaction to the first assassination attempt against him.\n",
      "35                                                                                                 Pete Hegseth, a Fox News host, has advocated for a conservative cultural shift in the US military.\n",
      "42                                                                                   Bryan Lanza's comments come days after Trump had a phone call with Ukraine's Zelensky and billionaire Elon Musk.\n",
      "64                                                                                    On Wednesday, Trump — who's now president-elect — also had a call with Ukrainian President Volodymyr Zelenskyy.\n",
      "67                                                                                The Pentagon says it thinks it can get it all to Ukraine before mid-January, but it isn't going to be an easy lift.\n",
      "70                                               Trump has appointed Pete Hegseth as his defense secretary. On a podcast last week, Hegseth said he didn't want US intervention forcing Putin's hand.\n",
      "89     President-elect Donald Trump has announced he will nominate Fox News host Pete Hegseth to serve as Secretary of Defense. Hegseth is also a combat veteran who has long advocated for veterans.\n",
      "115                                         Chinese President Xi Jinping and French President Emmanuel Macron were among the first world leaders to speak by phone with President-elect Donald Trump.\n",
      "121                                           U.S. President-elect Donald Trump said on Tuesday he has picked as his secretary of defense Pete Hegseth, a Fox News commentator and veteran who has...\n",
      "Name: description, dtype: object\n"
     ]
    }
   ],
   "source": [
    "print(articles_df[articles_df['cluster'] == 2]['title'])\n",
    "print(articles_df[articles_df['cluster'] == 2]['description'])\n",
    "\n"
   ]
  },
  {
   "cell_type": "code",
   "execution_count": 19,
   "metadata": {},
   "outputs": [
    {
     "name": "stdout",
     "output_type": "stream",
     "text": [
      "31                 Divided Arizona contends with Trump's sweeping border plan\n",
      "79                                                  Donald Trump wins Arizona\n",
      "110    Trump won a comprehensive victory. Can other Republicans replicate it?\n",
      "117      More voters saw Trump as the candidate of change: Exit poll analysis\n",
      "118                The Strategist Who Predicted Trump’s Multiracial Coalition\n",
      "127                                  Why Democrats Are Losing the Culture War\n",
      "Name: title, dtype: object\n",
      "31                                                                                   The state is likely to be one places seeing a shift under the president-elect's immigration policies.\n",
      "79     Arizona was that last state to be called by the Associated Press in the presidential race. It brings Trump's total electoral vote count to 312, with 226 for Vice President Harris.\n",
      "110                                         Donald Trump scored a comprehensive victory Tuesday, improving his numbers across several key demographics. Can other Republicans do the same?\n",
      "117                                Claiming superior leadership and casting himself as the true agent of change were keys to Donald Trump’s election victory, an ABC News exit poll found.\n",
      "118                                                                                   Donald Trump made his biggest gains in diverse areas that have supported Democrats for decades. Why?\n",
      "127                                                                     The booming right-wing influencer ecosystem helped reelect Donald Trump—and the other side may not have an answer.\n",
      "Name: description, dtype: object\n"
     ]
    }
   ],
   "source": [
    "print(articles_df[articles_df['cluster'] == 5]['title'])\n",
    "print(articles_df[articles_df['cluster'] == 5]['description'])"
   ]
  },
  {
   "cell_type": "code",
   "execution_count": 20,
   "metadata": {},
   "outputs": [
    {
     "name": "stdout",
     "output_type": "stream",
     "text": [
      "8     Jeff Bezos says he’s a climate guy — why is he kissing the ring?\n",
      "27                    Climate talks to open in shadow of Trump victory\n",
      "29                     Trump victory 'major setback' to climate action\n",
      "36    Climate fight 'bigger than one election', says Biden’s top envoy\n",
      "Name: title, dtype: object\n",
      "8     Jeff Bezos joined other tech moguls in congratulating Trump on his election victory. That doesn’t seem to jive with his “passion” for fighting climate change.\n",
      "27                                                                   Leaders heading to the annual UN climate talks have a lot of other distractions to contend with\n",
      "29                                   Trump's election will hit immediate efforts to tackle climate change, experts say - but the longer-term effect is less certain.\n",
      "36                                                          COP29 climate summit opens amid fears the US election will derail efforts to stop the planet heating up.\n",
      "Name: description, dtype: object\n"
     ]
    }
   ],
   "source": [
    "print(articles_df[articles_df['cluster'] == 1]['title'])\n",
    "print(articles_df[articles_df['cluster'] == 1]['description'])\n"
   ]
  },
  {
   "cell_type": "code",
   "execution_count": 21,
   "metadata": {},
   "outputs": [
    {
     "name": "stdout",
     "output_type": "stream",
     "text": [
      "63                                                 Matt Gaetz's most controversial moments\n",
      "83                                     Trump announces Matt Gaetz as attorney general pick\n",
      "87     Senate Republicans concerned with Gaetz nomination ask to access House ethics probe\n",
      "126                                        Trump nominates Matt Gaetz for Attorney General\n",
      "Name: title, dtype: object\n",
      "63                                                                                 Matt Gaetz, Donald Trump's polarizing pick to be the next attorney general, has long been at the center of controversy.\n",
      "83             President-elect Donald Trump announced his pick for one of the biggest jobs in his new administration: attorney general. And for that job, Trump has chosen Florida Congressman Matt Gaetz.\n",
      "87     Senators are calling for access to a House Ethics Committee probe into former Rep. Matt Gaetz, R-Fla., following his nomination to be the next attorney general under President-elect Donald Trump.\n",
      "126                                                                                In a post on Truth Social, Trump said that Gaetz would \"root out the systemic corruption\" at the Department of Justice.\n",
      "Name: description, dtype: object\n"
     ]
    }
   ],
   "source": [
    "print(articles_df[articles_df['cluster'] == 4]['title'])\n",
    "print(articles_df[articles_df['cluster'] == 4]['description'])\n"
   ]
  },
  {
   "cell_type": "code",
   "execution_count": 24,
   "metadata": {},
   "outputs": [
    {
     "name": "stdout",
     "output_type": "stream",
     "text": [
      "Cluster 0 Summary:  Trump's approach to Big Tech has oscillated between calls for stricter regulations for some players and a hands-off approach for others . Silicon Valley is betting a Musk-inspired Trump could unleash a startup boom . The president-elect returned to\n",
      "Cluster 1 Summary:  Jeff Bezos says he’s a climate guy — why is he kissing the ring? Jeff Bezos joined other tech moguls in congratulating Trump on his election victory . COP29 climate summit opens amid fears the US election will derail efforts\n",
      "Cluster 2 Summary:  Pete Hegseth, a Fox News host, has advocated for a conservative cultural shift in the US military . On a podcast last week, he said he didn't want US intervention forcing Putin's hand . With Trump's White House\n",
      "Cluster 5 Summary:  Arizona was that last state to be called by the Associated Press in the presidential race . It brings Trump's total electoral vote count to 312, with 226 for Vice President Harris .\n",
      "Cluster 6 Summary:  Trump fans and Harris supporters baselessly claimed large-scale voter fraud in Tuesday's election . Georgia counties certify the election, as fraud claims dissipate after Trump win . There had been concerns about election certification, but with Trump's victory,\n",
      "Cluster 3 Summary:  Saudi Arabia's ruler used to be one of Trump's biggest fans . The Middle East's in chaos, and Gulf state leaders may fear that Donald Trump will make it worse . Saudi Arabia still wants to be an AI leader .\n",
      "Cluster 4 Summary:  President-elect Donald Trump nominates Florida Rep. Matt Gaetz to be attorney general . Gaetz has long been at the center of controversy . Trump says Gaetz would \"root out the systemic corruption\" at the Department of Justice .\n"
     ]
    }
   ],
   "source": [
    "# step 4: summarize main clusters (may use OpenAI for this in the future)\n",
    "summaries = []\n",
    "summarizer = pipeline(\"summarization\", model=\"sshleifer/distilbart-cnn-12-6\")\n",
    "for cluster in articles_df['cluster'].unique():\n",
    "    if cluster == -1:\n",
    "        continue\n",
    "    cluster_articles = articles_df[articles_df['cluster'] == cluster]['combined_text']\n",
    "    combined_text = ' '.join(cluster_articles[:15])\n",
    "    if combined_text.strip():\n",
    "        summary = summarizer(combined_text, max_length=50, min_length=30, do_sample=False)\n",
    "        summaries.append({'cluster': cluster, 'summary_text': summary[0]['summary_text']})\n",
    "        print(f\"Cluster {cluster} Summary: {summary[0]['summary_text']}\")"
   ]
  },
  {
   "cell_type": "code",
   "execution_count": null,
   "metadata": {},
   "outputs": [],
   "source": [
    "# PSA I tried it with OpenAI and summaries are much better. So we'll probably use that."
   ]
  }
 ],
 "metadata": {
  "kernelspec": {
   "display_name": "Python 3",
   "language": "python",
   "name": "python3"
  },
  "language_info": {
   "codemirror_mode": {
    "name": "ipython",
    "version": 3
   },
   "file_extension": ".py",
   "mimetype": "text/x-python",
   "name": "python",
   "nbconvert_exporter": "python",
   "pygments_lexer": "ipython3",
   "version": "3.12.7"
  }
 },
 "nbformat": 4,
 "nbformat_minor": 2
}
